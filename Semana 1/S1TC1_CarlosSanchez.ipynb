{
 "cells": [
  {
   "cell_type": "markdown",
   "metadata": {},
   "source": [
    "![image info](https://raw.githubusercontent.com/albahnsen/MIAD_ML_and_NLP/main/images/banner_1.png)"
   ]
  },
  {
   "cell_type": "markdown",
   "metadata": {},
   "source": [
    "# Taller: Construcción e implementación de árboles de decisión y métodos de ensamblaje\n",
    "\n",
    "En este taller podrá poner en práctica los sus conocimientos sobre construcción e implementación de árboles de decisión y métodos de ensamblajes. El taller está constituido por 9 puntos, 5 relacionados con árboles de decisión (parte A) y 4 con métodos de ensamblaje (parte B)."
   ]
  },
  {
   "cell_type": "markdown",
   "metadata": {},
   "source": [
    "## Parte A - Árboles de decisión\n",
    "\n",
    "En esta parte del taller se usará el conjunto de datos de Capital Bikeshare de Kaggle, donde cada observación representa el alquiler de una bicicleta durante una hora y día determinado. Para más detalles puede visitar los siguientes enlaces: [datos](https://github.com/justmarkham/DAT8/blob/master/data/bikeshare.csv), [dicccionario de datos](https://www.kaggle.com/c/bike-sharing-demand/data)."
   ]
  },
  {
   "cell_type": "markdown",
   "metadata": {},
   "source": [
    "### Datos prestamo de bicicletas"
   ]
  },
  {
   "cell_type": "code",
   "execution_count": 34,
   "metadata": {},
   "outputs": [],
   "source": [
    "import warnings\n",
    "warnings.filterwarnings('ignore')"
   ]
  },
  {
   "cell_type": "code",
   "execution_count": 35,
   "metadata": {},
   "outputs": [],
   "source": [
    "# Importación de librerías\n",
    "%matplotlib inline\n",
    "import pandas as pd\n",
    "import numpy as np\n",
    "import matplotlib.pyplot as plt\n",
    "import sklearn\n",
    "from sklearn.model_selection import cross_val_score\n",
    "from sklearn.linear_model import LinearRegression\n",
    "from sklearn.tree import DecisionTreeRegressor, export_graphviz"
   ]
  },
  {
   "cell_type": "code",
   "execution_count": 36,
   "metadata": {},
   "outputs": [
    {
     "data": {
      "text/html": [
       "<div>\n",
       "<style scoped>\n",
       "    .dataframe tbody tr th:only-of-type {\n",
       "        vertical-align: middle;\n",
       "    }\n",
       "\n",
       "    .dataframe tbody tr th {\n",
       "        vertical-align: top;\n",
       "    }\n",
       "\n",
       "    .dataframe thead th {\n",
       "        text-align: right;\n",
       "    }\n",
       "</style>\n",
       "<table border=\"1\" class=\"dataframe\">\n",
       "  <thead>\n",
       "    <tr style=\"text-align: right;\">\n",
       "      <th></th>\n",
       "      <th>season</th>\n",
       "      <th>holiday</th>\n",
       "      <th>workingday</th>\n",
       "      <th>weather</th>\n",
       "      <th>temp</th>\n",
       "      <th>atemp</th>\n",
       "      <th>humidity</th>\n",
       "      <th>windspeed</th>\n",
       "      <th>casual</th>\n",
       "      <th>registered</th>\n",
       "      <th>total</th>\n",
       "      <th>hour</th>\n",
       "    </tr>\n",
       "    <tr>\n",
       "      <th>datetime</th>\n",
       "      <th></th>\n",
       "      <th></th>\n",
       "      <th></th>\n",
       "      <th></th>\n",
       "      <th></th>\n",
       "      <th></th>\n",
       "      <th></th>\n",
       "      <th></th>\n",
       "      <th></th>\n",
       "      <th></th>\n",
       "      <th></th>\n",
       "      <th></th>\n",
       "    </tr>\n",
       "  </thead>\n",
       "  <tbody>\n",
       "    <tr>\n",
       "      <th>2011-01-01 00:00:00</th>\n",
       "      <td>1</td>\n",
       "      <td>0</td>\n",
       "      <td>0</td>\n",
       "      <td>1</td>\n",
       "      <td>9.84</td>\n",
       "      <td>14.395</td>\n",
       "      <td>81</td>\n",
       "      <td>0.0</td>\n",
       "      <td>3</td>\n",
       "      <td>13</td>\n",
       "      <td>16</td>\n",
       "      <td>0</td>\n",
       "    </tr>\n",
       "    <tr>\n",
       "      <th>2011-01-01 01:00:00</th>\n",
       "      <td>1</td>\n",
       "      <td>0</td>\n",
       "      <td>0</td>\n",
       "      <td>1</td>\n",
       "      <td>9.02</td>\n",
       "      <td>13.635</td>\n",
       "      <td>80</td>\n",
       "      <td>0.0</td>\n",
       "      <td>8</td>\n",
       "      <td>32</td>\n",
       "      <td>40</td>\n",
       "      <td>1</td>\n",
       "    </tr>\n",
       "    <tr>\n",
       "      <th>2011-01-01 02:00:00</th>\n",
       "      <td>1</td>\n",
       "      <td>0</td>\n",
       "      <td>0</td>\n",
       "      <td>1</td>\n",
       "      <td>9.02</td>\n",
       "      <td>13.635</td>\n",
       "      <td>80</td>\n",
       "      <td>0.0</td>\n",
       "      <td>5</td>\n",
       "      <td>27</td>\n",
       "      <td>32</td>\n",
       "      <td>2</td>\n",
       "    </tr>\n",
       "    <tr>\n",
       "      <th>2011-01-01 03:00:00</th>\n",
       "      <td>1</td>\n",
       "      <td>0</td>\n",
       "      <td>0</td>\n",
       "      <td>1</td>\n",
       "      <td>9.84</td>\n",
       "      <td>14.395</td>\n",
       "      <td>75</td>\n",
       "      <td>0.0</td>\n",
       "      <td>3</td>\n",
       "      <td>10</td>\n",
       "      <td>13</td>\n",
       "      <td>3</td>\n",
       "    </tr>\n",
       "    <tr>\n",
       "      <th>2011-01-01 04:00:00</th>\n",
       "      <td>1</td>\n",
       "      <td>0</td>\n",
       "      <td>0</td>\n",
       "      <td>1</td>\n",
       "      <td>9.84</td>\n",
       "      <td>14.395</td>\n",
       "      <td>75</td>\n",
       "      <td>0.0</td>\n",
       "      <td>0</td>\n",
       "      <td>1</td>\n",
       "      <td>1</td>\n",
       "      <td>4</td>\n",
       "    </tr>\n",
       "  </tbody>\n",
       "</table>\n",
       "</div>"
      ],
      "text/plain": [
       "                     season  holiday  workingday  weather  temp   atemp  \\\n",
       "datetime                                                                  \n",
       "2011-01-01 00:00:00       1        0           0        1  9.84  14.395   \n",
       "2011-01-01 01:00:00       1        0           0        1  9.02  13.635   \n",
       "2011-01-01 02:00:00       1        0           0        1  9.02  13.635   \n",
       "2011-01-01 03:00:00       1        0           0        1  9.84  14.395   \n",
       "2011-01-01 04:00:00       1        0           0        1  9.84  14.395   \n",
       "\n",
       "                     humidity  windspeed  casual  registered  total  hour  \n",
       "datetime                                                                   \n",
       "2011-01-01 00:00:00        81        0.0       3          13     16     0  \n",
       "2011-01-01 01:00:00        80        0.0       8          32     40     1  \n",
       "2011-01-01 02:00:00        80        0.0       5          27     32     2  \n",
       "2011-01-01 03:00:00        75        0.0       3          10     13     3  \n",
       "2011-01-01 04:00:00        75        0.0       0           1      1     4  "
      ]
     },
     "execution_count": 36,
     "metadata": {},
     "output_type": "execute_result"
    }
   ],
   "source": [
    "# Lectura de la información de archivo .csv\n",
    "bikes = pd.read_csv('https://raw.githubusercontent.com/albahnsen/MIAD_ML_and_NLP/main/datasets/bikeshare.csv', index_col='datetime', parse_dates=True)\n",
    "# Renombrar variable \"count\" a \"total\"\n",
    "bikes.rename(columns={'count':'total'}, inplace=True)\n",
    "# Crear la hora como una variable \n",
    "bikes['hour'] = bikes.index.hour\n",
    "# Visualización\n",
    "bikes.head()\n",
    "#print(bikes.describe)"
   ]
  },
  {
   "cell_type": "markdown",
   "metadata": {},
   "source": [
    "### Punto 1 - Análisis descriptivo\n",
    "\n",
    "Ejecute las celdas 1.1 y 1.2. A partir de los resultados realice un análisis descriptivo sobre las variables hour y workingday, escriba sus inferencias sobre los datos. Para complementar su análisis puede usar métricas como máximo, mínimo, percentiles entre otros."
   ]
  },
  {
   "cell_type": "code",
   "execution_count": 37,
   "metadata": {},
   "outputs": [
    {
     "name": "stdout",
     "output_type": "stream",
     "text": [
      "workingday\n",
      "0    188.506621\n",
      "1    193.011873\n",
      "Name: total, dtype: float64\n",
      "\n",
      "\n",
      "workingday\n",
      "0    1\n",
      "1    1\n",
      "Name: total, dtype: int64\n",
      "\n",
      "\n",
      "workingday\n",
      "0    783\n",
      "1    977\n",
      "Name: total, dtype: int64\n"
     ]
    }
   ],
   "source": [
    "# Celda 1.1\n",
    "print(bikes.groupby('workingday').total.mean())\n",
    "print(\"\\n\")\n",
    "print(bikes.groupby('workingday').total.min())\n",
    "print(\"\\n\")\n",
    "print(bikes.groupby('workingday').total.max())\n",
    "\n"
   ]
  },
  {
   "cell_type": "markdown",
   "metadata": {},
   "source": [
    "La variable predictora Workingday es categórica y posee 2 niveles. 1 Si es día laboral y 0 de lo contrario. Para cuando el día no es laboral (Workingday = 0) tenemos que el número de bicicletas promedio que se rentan es 188, mientras que cuando el día es laboral se rentan en promedio 193 bicicletas. \n",
    "\n",
    "Adicionalmente, tenemos que el mínimo de bicicletas que se prestan en cualquier día es de 1. Sin embargo, cuando el día es laboral se han prestado hasta 977, por otro lado, cuando el día no es laboral se han prestado hasta 783. "
   ]
  },
  {
   "cell_type": "code",
   "execution_count": 38,
   "metadata": {
    "scrolled": false
   },
   "outputs": [
    {
     "name": "stdout",
     "output_type": "stream",
     "text": [
      "hour\n",
      "0      55.138462\n",
      "1      33.859031\n",
      "2      22.899554\n",
      "3      11.757506\n",
      "4       6.407240\n",
      "5      19.767699\n",
      "6      76.259341\n",
      "7     213.116484\n",
      "8     362.769231\n",
      "9     221.780220\n",
      "10    175.092308\n",
      "11    210.674725\n",
      "12    256.508772\n",
      "13    257.787281\n",
      "14    243.442982\n",
      "15    254.298246\n",
      "16    316.372807\n",
      "17    468.765351\n",
      "18    430.859649\n",
      "19    315.278509\n",
      "20    228.517544\n",
      "21    173.370614\n",
      "22    133.576754\n",
      "23     89.508772\n",
      "Name: total, dtype: float64\n",
      "\n",
      "\n",
      "[<matplotlib.lines.Line2D object at 0x7f29948fb3d0>]\n",
      "\n",
      "\n"
     ]
    },
    {
     "data": {
      "image/png": "[encoded data removed]",
      "text/plain": [
       "<Figure size 432x288 with 1 Axes>"
      ]
     },
     "metadata": {
      "needs_background": "light"
     },
     "output_type": "display_data"
    }
   ],
   "source": [
    "# Celda 1.2\n",
    "aux = bikes.groupby('hour').total.mean()\n",
    "print(aux)\n",
    "print(\"\\n\")\n",
    "print(plt.plot(aux))\n",
    "print(\"\\n\")\n",
    "#print(aux.min())\n",
    "#print(aux.max())\n",
    "\n"
   ]
  },
  {
   "cell_type": "markdown",
   "metadata": {},
   "source": [
    "Para la variable \"horas\" tenemos 24 categorías correspondientes a las horas del día. Se puede definir que la hora que menos demanda de bicicletas tiene es 4:00 AM (6,4 bicicletas en promedio se rentan a esta hora). Por otro lado, la hora que más demanda de bicicletas tiene es 5:00 PM (468 bicicletas en promedio).\n",
    "\n",
    "Si graficamos el dataset podemos ver el comportamiento de las bicicletas rentadas durante el día. El rango horario donde mas se rentan bicicletas es de 6:AM a 9:00 PM\n",
    "\n"
   ]
  },
  {
   "cell_type": "markdown",
   "metadata": {},
   "source": [
    "### Punto 2 - Análisis de gráficos\n",
    "\n",
    "Primero ejecute la celda 2.1 y asegúrese de comprender el código y el resultado. Luego, en cada una de celdas 2.2 y 2.3 escriba un código que genere una gráfica de las rentas promedio por hora cuando la variable \"workingday\" es igual a 0 e igual a 1, respectivamente. Analice y escriba sus hallazgos."
   ]
  },
  {
   "cell_type": "code",
   "execution_count": 39,
   "metadata": {},
   "outputs": [
    {
     "data": {
      "text/plain": [
       "<matplotlib.axes._subplots.AxesSubplot at 0x7f29949a7050>"
      ]
     },
     "execution_count": 39,
     "metadata": {},
     "output_type": "execute_result"
    },
    {
     "data": {
      "image/png": "[encoded data removed]",
      "text/plain": [
       "<Figure size 432x288 with 1 Axes>"
      ]
     },
     "metadata": {
      "needs_background": "light"
     },
     "output_type": "display_data"
    }
   ],
   "source": [
    "# Celda 2.1 - rentas promedio para cada valor de la variable \"hour\"\n",
    "bikes.groupby('hour').total.mean().plot()"
   ]
  },
  {
   "cell_type": "code",
   "execution_count": 40,
   "metadata": {},
   "outputs": [
    {
     "name": "stdout",
     "output_type": "stream",
     "text": [
      "AxesSubplot(0.125,0.125;0.775x0.755)\n"
     ]
    },
    {
     "data": {
      "image/png": "[encoded data removed]",
      "text/plain": [
       "<Figure size 432x288 with 1 Axes>"
      ]
     },
     "metadata": {
      "needs_background": "light"
     },
     "output_type": "display_data"
    }
   ],
   "source": [
    "# Celda 2.2 - \"workingday\"=0 escriba su código y hallazgos \n",
    "df = bikes.drop(bikes[bikes.workingday == 1].index)\n",
    "print(df.groupby('hour').total.mean().plot())\n"
   ]
  },
  {
   "cell_type": "markdown",
   "metadata": {},
   "source": [
    "Podemos ver que el comportamiento de la renta de bicicletas durante el día cambia dependiendo del tipo de día. La gráfica nos muestra que cuando el día NO es laboral, el comportamiento de la renta tiene una forma senoidal, es decir, el número de bicicletas que se renta oscila.  \n",
    "\n",
    "La renta de bicicletas alcanza su pico máximo alrededor de las 12:00 PM en este caso (Workingday = 0)."
   ]
  },
  {
   "cell_type": "code",
   "execution_count": 41,
   "metadata": {},
   "outputs": [
    {
     "name": "stdout",
     "output_type": "stream",
     "text": [
      "AxesSubplot(0.125,0.125;0.775x0.755)\n"
     ]
    },
    {
     "data": {
      "image/png": "[encoded data removed]",
      "text/plain": [
       "<Figure size 432x288 with 1 Axes>"
      ]
     },
     "metadata": {
      "needs_background": "light"
     },
     "output_type": "display_data"
    }
   ],
   "source": [
    "# Celda 2.3 - \"workingday\"=1 escriba su código y hallazgos \n",
    "\n",
    "df = bikes.drop(bikes[bikes.workingday == 0].index)\n",
    "print(df.groupby('hour').total.mean().plot())\n",
    "\n"
   ]
  },
  {
   "cell_type": "markdown",
   "metadata": {},
   "source": [
    "El comportamiento para días laborales es muy parecido al comportamiento base. Esto puede ser producto de que en la base de datos la categoría Workingday=1 predomina a Workingday=0. \n",
    "\n",
    "La renta de bicicletas alcanza su pico máximo alrededor de las 5:00 PM en este caso (Workingday = 1]). La hora pico podría explicarse por ser la hora en la que la mayoría de personas que manejan bicicleta salen de sus trabajos. "
   ]
  },
  {
   "cell_type": "markdown",
   "metadata": {},
   "source": [
    "### Punto 3 - Regresión lineal\n",
    "En la celda 3 ajuste un modelo de regresión lineal a todo el conjunto de datos, utilizando \"total\" como variable de respuesta y \"hour\" y \"workingday\" como las únicas variables predictoras. Luego, imprima los coeficientes e interprételos. ¿Cuáles son las limitaciones de la regresión lineal en este caso?"
   ]
  },
  {
   "cell_type": "code",
   "execution_count": 42,
   "metadata": {},
   "outputs": [
    {
     "name": "stdout",
     "output_type": "stream",
     "text": [
      "B0: 67.7059502619161\n",
      "Betas: [10.49206282  4.07248627]\n"
     ]
    }
   ],
   "source": [
    "# Celda 3\n",
    "from sklearn.linear_model import LinearRegression\n",
    "\n",
    "y_train = bikes[\"total\"] \n",
    "bikes['hour'] = pd.factorize(bikes.hour)[0]\n",
    "bikes['workingday'] = pd.factorize(bikes.workingday)[0]\n",
    "X_train = pd.concat([bikes['hour'], bikes['workingday']], axis=1)\n",
    "\n",
    "linearR = LinearRegression().fit(X_train, y_train)\n",
    "print(\"B0: \" + str(linearR.intercept_))\n",
    "print(\"Betas: \"+ str(linearR.coef_))"
   ]
  },
  {
   "cell_type": "markdown",
   "metadata": {},
   "source": [
    "Una de las limitaciones del modelo de regresión lineal es que no es directamente interpretable cuando se tienen una variable con varias categorías.\n",
    "\n",
    "Para la variable Workingday tenemos un beta de 4, es decir, que para días laborales se tendrá 4 bicicletas rentadas adicionales con respecto a días no laborales. "
   ]
  },
  {
   "cell_type": "markdown",
   "metadata": {},
   "source": [
    "### Punto 4 - Árbol de decisión manual\n",
    "En la celda 4 cree un árbol de decisiones para pronosticar la variable \"total\" iterando **manualmente** sobre las variables \"hour\" y  \"workingday\". El árbol debe tener al menos 6 nodos finales."
   ]
  },
  {
   "cell_type": "code",
   "execution_count": 43,
   "metadata": {
    "scrolled": true
   },
   "outputs": [
    {
     "name": "stdout",
     "output_type": "stream",
     "text": [
      "Primera ramificación\n",
      "workingday\n",
      "MSE (Workingday = 1) : 34040.69710674686\n",
      "MSE (Workingday = 0) : 30171.346098942427\n",
      "\n",
      "hour\n",
      "MSE (Hour > 5) : 31212.16505435094\n",
      "MSE (Hour < 5) : 945.7802636532437\n",
      "\n",
      "Seleccion primer Nodo -> Hour < 5\n",
      "\n",
      "\n",
      "Segunda ramificación (Hour < 5)\n",
      "NODO FINAL - MSE (Hour < 5) & (Workingday = 1): 330.2008666286566\n",
      "NODO FINAL - MSE (Hour < 5) & (Workingday = 0): 1806.7178351915657\n",
      "\n",
      "\n",
      "Tercera ramificación (Hour > 5)\n",
      "MSE (5 < Hour < 7): 2990.464610554281\n",
      "MSE (7 < Hour < 23): 31077.582402988504\n",
      "\n",
      "Seleccion tercer Nodo -> 5 < Hour < 7\n",
      "\n",
      "\n",
      "Cuarta ramificación (5 < Hour < 7) \n",
      "NODO FINAL - MSE (5 < Hour < 7) & (Workingday = 1): 2061.663361082206\n",
      "NODO FINAL - MSE (5 < Hour < 7) & (Workingday = 0): 329.46891795481565\n",
      "\n",
      "\n",
      "Quinta ramificación (Hour >= 7)\n",
      "NODO FINAL - MSE (Hour >= 7) & (Workingday = 1): 31903.753636979614\n",
      "NODO FINAL - MSE (Hour >= 7) & (Workingday = 0): 29236.531625474698\n"
     ]
    }
   ],
   "source": [
    "# Celda 4\n",
    "\n",
    "print(\"Primera ramificación\")\n",
    "\n",
    "# Impresión variable a usar (WorkingDay)\n",
    "print(X_train.columns[1])\n",
    "# División de la variable workingday\n",
    "filter_l = X_train.iloc[:, 1] == 1\n",
    "# División de la variable de respuesta de acuerdo a si la observación cumple o no con la regla binaria\n",
    "y_l = y_train.loc[filter_l] # y_l: la observación es en dia laboral.\n",
    "y_r = y_train.loc[~filter_l] # y_r: la observación NO es en dia laboral.\n",
    "predict_l = np.average(y_l) # Prediccion de la particion l\n",
    "predict_r = np.average(y_r) # Predicción de la partición r\n",
    "MSE_l = np.average( np.square(predict_l - y_l) )\n",
    "MSE_r = np.average( np.square(predict_r - y_r) )\n",
    "print(\"MSE (Workingday = 1) : \"+str(MSE_l))\n",
    "print(\"MSE (Workingday = 0) : \"+str(MSE_r))\n",
    "print(\"\")\n",
    "\n",
    "# Impresión variable a usar (Hour)\n",
    "print(X_train.columns[0])\n",
    "# División de la variable Hour\n",
    "filter_2 = X_train.iloc[:, 0] > 5\n",
    "\n",
    "y_l = y_train.loc[filter_2] # y_l: la observación es despues de las 5 AM.\n",
    "y_r = y_train.loc[~filter_2] # y_l: la observación es antes de las 5 AM.\n",
    "predict_l = np.average(y_l)\n",
    "predict_r = np.average(y_r)\n",
    "MSE_l = np.average( np.square(predict_l - y_l) )\n",
    "MSE_r = np.average( np.square(predict_r - y_r) )\n",
    "\n",
    "print(\"MSE (Hour > 5) : \" + str(MSE_l))\n",
    "print(\"MSE (Hour < 5) : \" + str(MSE_r))\n",
    "print(\"\")\n",
    "print(\"Seleccion primer Nodo -> Hour < 5\")\n",
    "print('\\n')\n",
    "\n",
    "\n",
    "print(\"Segunda ramificación (Hour < 5)\")\n",
    "## Explorar el nodo Hour < 5\n",
    "filter_3 = (X_train.iloc[:, 0] < 5) & (X_train.iloc[:, 1] == 1) #Nodo Hour < 5 y Workingday = 1\n",
    "filter_4 = (X_train.iloc[:, 0] < 5) & (X_train.iloc[:, 1] == 0) #Nodo Hour < 5 y Workingday = 0\n",
    "y_l = y_train.loc[filter_3] # y_l: la observación es antes de las 5 AM y es dia laboral.\n",
    "y_r = y_train.loc[filter_4] # y_l: la observación es antes de las 5 AM y no es dia laboral.\n",
    "predict_l, predict_r = np.average(y_l), np.average(y_r)\n",
    "MSE_l = np.average( np.square(predict_l - y_l) )\n",
    "MSE_r = np.average( np.square(predict_r - y_r) )\n",
    "print(\"NODO FINAL - MSE (Hour < 5) & (Workingday = 1): \" + str(MSE_l))\n",
    "print(\"NODO FINAL - MSE (Hour < 5) & (Workingday = 0): \" + str(MSE_r))\n",
    "\n",
    "print('\\n')\n",
    "print(\"Tercera ramificación (Hour > 5)\")\n",
    "## Explorar el nodo Hour < 5\n",
    "filter_5 = (X_train.iloc[:, 0] > 5) & (X_train.iloc[:, 0] < 7) #Nodo 5 < Hour < 7\n",
    "filter_6 = (X_train.iloc[:, 0] >= 7) & (X_train.iloc[:, 0] < 24) #Nodo 7 < Hour < 23\n",
    "\n",
    "y_l = y_train.loc[filter_5] # y_l: la observación es entre las 5 AM y las 7 AM.\n",
    "y_r = y_train.loc[filter_6] # y_l: la observación es entre las 7 AM y las 24.\n",
    "predict_l, predict_r = np.average(y_l), np.average(y_r)\n",
    "MSE_l = np.average( np.square(predict_l - y_l) )\n",
    "MSE_r = np.average( np.square(predict_r - y_r) )\n",
    "print(\"MSE (5 < Hour < 7): \" + str(MSE_l))\n",
    "print(\"MSE (7 < Hour < 23): \" + str(MSE_r))\n",
    "print(\"\")\n",
    "print(\"Seleccion tercer Nodo -> 5 < Hour < 7\")\n",
    "print('\\n')\n",
    "print(\"Cuarta ramificación (5 < Hour < 7) \")\n",
    "filter_7 = (X_train.iloc[:, 0] > 5) & (X_train.iloc[:, 0] < 7) & (X_train.iloc[:, 1] == 1) #Nodo 5 < Hour < 7 en dia laboral.\n",
    "filter_8 = (X_train.iloc[:, 0] > 5) & (X_train.iloc[:, 0] < 7) & (X_train.iloc[:, 1] == 0) #Nodo 5 < Hour < 7 en dia no laboral.\n",
    "y_l = y_train.loc[filter_7] # y_l: la observación es entre 5 y 7 AM es dia laboral.\n",
    "y_r = y_train.loc[filter_8] # y_l: la observación es es entre 5 y 7 AM y no es dia laboral.\n",
    "predict_l, predict_r = np.average(y_l), np.average(y_r)\n",
    "MSE_l = np.average( np.square(predict_l - y_l) )\n",
    "MSE_r = np.average( np.square(predict_r - y_r) )\n",
    "print(\"NODO FINAL - MSE (5 < Hour < 7) & (Workingday = 1): \" + str(MSE_l))\n",
    "print(\"NODO FINAL - MSE (5 < Hour < 7) & (Workingday = 0): \" + str(MSE_r))\n",
    "\n",
    "print('\\n')\n",
    "print(\"Quinta ramificación (Hour >= 7)\")\n",
    "filter_9 = (X_train.iloc[:, 0] >= 7) & (X_train.iloc[:, 1] == 1) #Nodo Hour > 7 en dia laboral.\n",
    "filter_10 = (X_train.iloc[:, 0] >= 7) & (X_train.iloc[:, 1] == 0) #Nodo Hour > 7 en dia no laboral.\n",
    "y_l = y_train.loc[filter_9] # y_l: la observación es despues de 7 AM en dia laboral.\n",
    "y_r = y_train.loc[filter_10] # y_l: la observación es despues de 7 AM en dia no laboral.\n",
    "predict_l, predict_r = np.average(y_l), np.average(y_r)\n",
    "MSE_l = np.average( np.square(predict_l - y_l) )\n",
    "MSE_r = np.average( np.square(predict_r - y_r) )\n",
    "print(\"NODO FINAL - MSE (Hour >= 7) & (Workingday = 1): \" + str(MSE_l))\n",
    "print(\"NODO FINAL - MSE (Hour >= 7) & (Workingday = 0): \" + str(MSE_r))\n"
   ]
  },
  {
   "cell_type": "markdown",
   "metadata": {},
   "source": [
    "### Punto 5 - Árbol de decisión con librería\n",
    "En la celda 5 entrene un árbol de decisiones con la **librería sklearn**, usando las variables predictoras \"hour\" y \"workingday\" y calibre los parámetros que considere conveniente para obtener un mejor desempeño. Comente el desempeño del modelo con alguna métrica de desempeño de modelos de regresión y compare desempeño con el modelo del punto 3."
   ]
  },
  {
   "cell_type": "code",
   "execution_count": 44,
   "metadata": {},
   "outputs": [
    {
     "name": "stdout",
     "output_type": "stream",
     "text": [
      "Calibracion del parametro max_depth\n"
     ]
    },
    {
     "data": {
      "image/png": "[encoded data removed]",
      "text/plain": [
       "<Figure size 432x288 with 1 Axes>"
      ]
     },
     "metadata": {
      "needs_background": "light"
     },
     "output_type": "display_data"
    }
   ],
   "source": [
    "# Celda 5\n",
    "# Definir matriz X y Y para entrenar los modelos\n",
    "y_train = bikes[\"total\"] \n",
    "bikes['hour'] = pd.factorize(bikes.hour)[0]\n",
    "bikes['workingday'] = pd.factorize(bikes.workingday)[0]\n",
    "X_train = pd.concat([bikes['hour'], bikes['workingday']], axis=1)\n",
    "\n",
    "# Lista de valores para calibrar el criterio de parada de máxima profundidad (max_depth)\n",
    "max_depth_range = range(1, 21)\n",
    "\n",
    "# Lista para guardar los valores del MSE para cada valor de máxima profundidad (max_depth)\n",
    "mse_scores = []\n",
    "\n",
    "# Importación de modelos de sklearn \n",
    "from sklearn.model_selection import cross_val_score\n",
    "from sklearn.tree import DecisionTreeRegressor\n",
    "\n",
    "# Loop para obtener el desempeño del modelo de acuerdo con la máxima profundidad\n",
    "for depth in max_depth_range:\n",
    "    # Definición del árbol de decisión usando DecisionTreeClassifier de la libreria sklearn\n",
    "    clf = DecisionTreeRegressor(max_depth=depth, random_state=1)\n",
    "    mse_scores.append(cross_val_score(clf, X_train, y_train, cv=10, scoring=None).mean())\n",
    "\n",
    "print(\"Calibracion del parametro max_depth\")\n",
    "# Gráfica max_depth versus MSE (error del modelo)\n",
    "plt.plot(max_depth_range, mse_scores)\n",
    "plt.xlabel('max_depth')\n",
    "plt.ylabel('MSE')\n",
    "plt.show()"
   ]
  },
  {
   "cell_type": "markdown",
   "metadata": {},
   "source": [
    "Hay que notar que se está usando el mismo conjunto de entrenamiento para calibrar un parámetro del modelo, por lo tanto, se espera que el comportamiento del MSE no sea cóncavo, es decir, no funciona para calibrar. Sin embargo, hacemos la calibración a pesar de lo anterior y obtenemos que: "
   ]
  },
  {
   "cell_type": "code",
   "execution_count": 45,
   "metadata": {},
   "outputs": [
    {
     "data": {
      "text/plain": [
       "(-0.4841374721061996, 1)"
      ]
     },
     "execution_count": 45,
     "metadata": {},
     "output_type": "execute_result"
    }
   ],
   "source": [
    "# Mejor MSE (desempeño del modelo) y su correspondiente max_depth\n",
    "sorted(zip(mse_scores, max_depth_range), reverse = True)[::-1][0]"
   ]
  },
  {
   "cell_type": "markdown",
   "metadata": {},
   "source": [
    "La profundidad que minimiza el MSE es igual a 1, con un MSE de -0.48"
   ]
  },
  {
   "cell_type": "markdown",
   "metadata": {},
   "source": [
    "## Parte B - Métodos de ensamblajes\n",
    "En esta parte del taller se usará el conjunto de datos de Popularidad de Noticias Online. El objetivo es predecir si la notica es popular o no, la populridad esta dada por la cantidad de reacciones en redes sociales. Para más detalles puede visitar el sigueinte enlace: [datos](https://archive.ics.uci.edu/ml/datasets/online+news+popularity)."
   ]
  },
  {
   "cell_type": "markdown",
   "metadata": {},
   "source": [
    "### Datos popularidad de noticias"
   ]
  },
  {
   "cell_type": "code",
   "execution_count": 46,
   "metadata": {},
   "outputs": [
    {
     "data": {
      "text/html": [
       "<div>\n",
       "<style scoped>\n",
       "    .dataframe tbody tr th:only-of-type {\n",
       "        vertical-align: middle;\n",
       "    }\n",
       "\n",
       "    .dataframe tbody tr th {\n",
       "        vertical-align: top;\n",
       "    }\n",
       "\n",
       "    .dataframe thead th {\n",
       "        text-align: right;\n",
       "    }\n",
       "</style>\n",
       "<table border=\"1\" class=\"dataframe\">\n",
       "  <thead>\n",
       "    <tr style=\"text-align: right;\">\n",
       "      <th></th>\n",
       "      <th>url</th>\n",
       "      <th>timedelta</th>\n",
       "      <th>n_tokens_title</th>\n",
       "      <th>n_tokens_content</th>\n",
       "      <th>n_unique_tokens</th>\n",
       "      <th>n_non_stop_words</th>\n",
       "      <th>n_non_stop_unique_tokens</th>\n",
       "      <th>num_hrefs</th>\n",
       "      <th>num_self_hrefs</th>\n",
       "      <th>num_imgs</th>\n",
       "      <th>...</th>\n",
       "      <th>min_positive_polarity</th>\n",
       "      <th>max_positive_polarity</th>\n",
       "      <th>avg_negative_polarity</th>\n",
       "      <th>min_negative_polarity</th>\n",
       "      <th>max_negative_polarity</th>\n",
       "      <th>title_subjectivity</th>\n",
       "      <th>title_sentiment_polarity</th>\n",
       "      <th>abs_title_subjectivity</th>\n",
       "      <th>abs_title_sentiment_polarity</th>\n",
       "      <th>Popular</th>\n",
       "    </tr>\n",
       "  </thead>\n",
       "  <tbody>\n",
       "    <tr>\n",
       "      <th>0</th>\n",
       "      <td>http://mashable.com/2014/12/10/cia-torture-rep...</td>\n",
       "      <td>28.0</td>\n",
       "      <td>9.0</td>\n",
       "      <td>188.0</td>\n",
       "      <td>0.732620</td>\n",
       "      <td>1.0</td>\n",
       "      <td>0.844262</td>\n",
       "      <td>5.0</td>\n",
       "      <td>1.0</td>\n",
       "      <td>1.0</td>\n",
       "      <td>...</td>\n",
       "      <td>0.200000</td>\n",
       "      <td>0.80</td>\n",
       "      <td>-0.487500</td>\n",
       "      <td>-0.60</td>\n",
       "      <td>-0.250000</td>\n",
       "      <td>0.9</td>\n",
       "      <td>0.8</td>\n",
       "      <td>0.4</td>\n",
       "      <td>0.8</td>\n",
       "      <td>1</td>\n",
       "    </tr>\n",
       "    <tr>\n",
       "      <th>1</th>\n",
       "      <td>http://mashable.com/2013/10/18/bitlock-kicksta...</td>\n",
       "      <td>447.0</td>\n",
       "      <td>7.0</td>\n",
       "      <td>297.0</td>\n",
       "      <td>0.653199</td>\n",
       "      <td>1.0</td>\n",
       "      <td>0.815789</td>\n",
       "      <td>9.0</td>\n",
       "      <td>4.0</td>\n",
       "      <td>1.0</td>\n",
       "      <td>...</td>\n",
       "      <td>0.160000</td>\n",
       "      <td>0.50</td>\n",
       "      <td>-0.135340</td>\n",
       "      <td>-0.40</td>\n",
       "      <td>-0.050000</td>\n",
       "      <td>0.1</td>\n",
       "      <td>-0.1</td>\n",
       "      <td>0.4</td>\n",
       "      <td>0.1</td>\n",
       "      <td>0</td>\n",
       "    </tr>\n",
       "    <tr>\n",
       "      <th>2</th>\n",
       "      <td>http://mashable.com/2013/07/24/google-glass-po...</td>\n",
       "      <td>533.0</td>\n",
       "      <td>11.0</td>\n",
       "      <td>181.0</td>\n",
       "      <td>0.660377</td>\n",
       "      <td>1.0</td>\n",
       "      <td>0.775701</td>\n",
       "      <td>4.0</td>\n",
       "      <td>3.0</td>\n",
       "      <td>1.0</td>\n",
       "      <td>...</td>\n",
       "      <td>0.136364</td>\n",
       "      <td>1.00</td>\n",
       "      <td>0.000000</td>\n",
       "      <td>0.00</td>\n",
       "      <td>0.000000</td>\n",
       "      <td>0.3</td>\n",
       "      <td>1.0</td>\n",
       "      <td>0.2</td>\n",
       "      <td>1.0</td>\n",
       "      <td>0</td>\n",
       "    </tr>\n",
       "    <tr>\n",
       "      <th>3</th>\n",
       "      <td>http://mashable.com/2013/11/21/these-are-the-m...</td>\n",
       "      <td>413.0</td>\n",
       "      <td>12.0</td>\n",
       "      <td>781.0</td>\n",
       "      <td>0.497409</td>\n",
       "      <td>1.0</td>\n",
       "      <td>0.677350</td>\n",
       "      <td>10.0</td>\n",
       "      <td>3.0</td>\n",
       "      <td>1.0</td>\n",
       "      <td>...</td>\n",
       "      <td>0.100000</td>\n",
       "      <td>1.00</td>\n",
       "      <td>-0.195701</td>\n",
       "      <td>-0.40</td>\n",
       "      <td>-0.071429</td>\n",
       "      <td>0.0</td>\n",
       "      <td>0.0</td>\n",
       "      <td>0.5</td>\n",
       "      <td>0.0</td>\n",
       "      <td>0</td>\n",
       "    </tr>\n",
       "    <tr>\n",
       "      <th>4</th>\n",
       "      <td>http://mashable.com/2014/02/11/parking-ticket-...</td>\n",
       "      <td>331.0</td>\n",
       "      <td>8.0</td>\n",
       "      <td>177.0</td>\n",
       "      <td>0.685714</td>\n",
       "      <td>1.0</td>\n",
       "      <td>0.830357</td>\n",
       "      <td>3.0</td>\n",
       "      <td>2.0</td>\n",
       "      <td>1.0</td>\n",
       "      <td>...</td>\n",
       "      <td>0.100000</td>\n",
       "      <td>0.55</td>\n",
       "      <td>-0.175000</td>\n",
       "      <td>-0.25</td>\n",
       "      <td>-0.100000</td>\n",
       "      <td>0.0</td>\n",
       "      <td>0.0</td>\n",
       "      <td>0.5</td>\n",
       "      <td>0.0</td>\n",
       "      <td>0</td>\n",
       "    </tr>\n",
       "  </tbody>\n",
       "</table>\n",
       "<p>5 rows × 61 columns</p>\n",
       "</div>"
      ],
      "text/plain": [
       "                                                 url  timedelta  \\\n",
       "0  http://mashable.com/2014/12/10/cia-torture-rep...       28.0   \n",
       "1  http://mashable.com/2013/10/18/bitlock-kicksta...      447.0   \n",
       "2  http://mashable.com/2013/07/24/google-glass-po...      533.0   \n",
       "3  http://mashable.com/2013/11/21/these-are-the-m...      413.0   \n",
       "4  http://mashable.com/2014/02/11/parking-ticket-...      331.0   \n",
       "\n",
       "   n_tokens_title  n_tokens_content  n_unique_tokens  n_non_stop_words  \\\n",
       "0             9.0             188.0         0.732620               1.0   \n",
       "1             7.0             297.0         0.653199               1.0   \n",
       "2            11.0             181.0         0.660377               1.0   \n",
       "3            12.0             781.0         0.497409               1.0   \n",
       "4             8.0             177.0         0.685714               1.0   \n",
       "\n",
       "   n_non_stop_unique_tokens  num_hrefs  num_self_hrefs  num_imgs  ...  \\\n",
       "0                  0.844262        5.0             1.0       1.0  ...   \n",
       "1                  0.815789        9.0             4.0       1.0  ...   \n",
       "2                  0.775701        4.0             3.0       1.0  ...   \n",
       "3                  0.677350       10.0             3.0       1.0  ...   \n",
       "4                  0.830357        3.0             2.0       1.0  ...   \n",
       "\n",
       "   min_positive_polarity  max_positive_polarity  avg_negative_polarity  \\\n",
       "0               0.200000                   0.80              -0.487500   \n",
       "1               0.160000                   0.50              -0.135340   \n",
       "2               0.136364                   1.00               0.000000   \n",
       "3               0.100000                   1.00              -0.195701   \n",
       "4               0.100000                   0.55              -0.175000   \n",
       "\n",
       "   min_negative_polarity  max_negative_polarity  title_subjectivity  \\\n",
       "0                  -0.60              -0.250000                 0.9   \n",
       "1                  -0.40              -0.050000                 0.1   \n",
       "2                   0.00               0.000000                 0.3   \n",
       "3                  -0.40              -0.071429                 0.0   \n",
       "4                  -0.25              -0.100000                 0.0   \n",
       "\n",
       "   title_sentiment_polarity  abs_title_subjectivity  \\\n",
       "0                       0.8                     0.4   \n",
       "1                      -0.1                     0.4   \n",
       "2                       1.0                     0.2   \n",
       "3                       0.0                     0.5   \n",
       "4                       0.0                     0.5   \n",
       "\n",
       "   abs_title_sentiment_polarity  Popular  \n",
       "0                           0.8        1  \n",
       "1                           0.1        0  \n",
       "2                           1.0        0  \n",
       "3                           0.0        0  \n",
       "4                           0.0        0  \n",
       "\n",
       "[5 rows x 61 columns]"
      ]
     },
     "execution_count": 46,
     "metadata": {},
     "output_type": "execute_result"
    }
   ],
   "source": [
    "# Lectura de la información de archivo .csv\n",
    "df = pd.read_csv('https://raw.githubusercontent.com/albahnsen/MIAD_ML_and_NLP/main/datasets/mashable.csv', index_col=0)\n",
    "df.head()"
   ]
  },
  {
   "cell_type": "code",
   "execution_count": 47,
   "metadata": {},
   "outputs": [
    {
     "data": {
      "text/plain": [
       "0.5"
      ]
     },
     "execution_count": 47,
     "metadata": {},
     "output_type": "execute_result"
    }
   ],
   "source": [
    "# Definición variable de interes y variables predictoras\n",
    "X = df.drop(['url', 'Popular'], axis=1)\n",
    "y = df['Popular']\n",
    "y.mean()"
   ]
  },
  {
   "cell_type": "code",
   "execution_count": 48,
   "metadata": {},
   "outputs": [],
   "source": [
    "# División de la muestra en set de entrenamiento y prueba\n",
    "from sklearn.model_selection import train_test_split\n",
    "X_train, X_test, y_train, y_test = train_test_split(X, y, random_state=1)"
   ]
  },
  {
   "cell_type": "markdown",
   "metadata": {},
   "source": [
    "### Punto 6 - Árbol de decisión y regresión logística\n",
    "En la celda 6 construya un árbol de decisión y una regresión logística. Para el árbol calibre al menos un parámetro y evalúe el desempeño de cada modelo usando las métricas de Accuracy y F1-Score."
   ]
  },
  {
   "cell_type": "markdown",
   "metadata": {},
   "source": [
    "El siguiente codigo puede tardar unos minutos. "
   ]
  },
  {
   "cell_type": "code",
   "execution_count": 49,
   "metadata": {},
   "outputs": [
    {
     "name": "stdout",
     "output_type": "stream",
     "text": [
      "Estimando Modelo de Regresión logística\n",
      "Modelo estimado\n",
      "\n",
      "El Acurracy del modelo de regresión logística es 0.616\n",
      "El F1-Score para el modelo de regresión logística es 0.6027586206896551\n",
      "\n",
      "\n",
      "Estimando Modelo de Árbol\n",
      "Modelo estimado\n",
      "\n",
      "Calibracion del parametro max_depth para el modelo de Árbol\n"
     ]
    },
    {
     "data": {
      "image/png": "[encoded data removed]",
      "text/plain": [
       "<Figure size 432x288 with 1 Axes>"
      ]
     },
     "metadata": {
      "needs_background": "light"
     },
     "output_type": "display_data"
    },
    {
     "name": "stdout",
     "output_type": "stream",
     "text": [
      "La maxima profundidad del arbol que tiene el mayor Accuracy es: 2\n",
      "\n",
      "El Acurracy del árbol calibrado es 0.6308888888888888\n",
      "\n",
      "El F1-Score para el modelo de árbol es 0.6448598130841121\n"
     ]
    }
   ],
   "source": [
    "# Celda 6\n",
    "from sklearn.tree import DecisionTreeClassifier\n",
    "from sklearn.model_selection import cross_val_score\n",
    "from sklearn.linear_model import LogisticRegression\n",
    "from sklearn import metrics\n",
    "\n",
    "\n",
    "# Regresión logistica \n",
    "print(\"Estimando Modelo de Regresión logística\")\n",
    "\n",
    "clfRegLog= LogisticRegression(random_state=0,max_iter=10000) # Generar un modelo\n",
    "clfRegLog.fit(X_train,y_train) #Estimar el modelo \n",
    "y_predReglog = clfRegLog.predict(X_test) #Predecir con el modelo de regresion logistica\n",
    "print(\"Modelo estimado\")\n",
    "print(\"\")\n",
    "print(\"El Acurracy del modelo de regresión logística es \" +  str(metrics.accuracy_score(y_predReglog, y_test)))\n",
    "print(\"El F1-Score para el modelo de regresión logística es \"+ str(metrics.f1_score(y_predReglog, y_test)))\n",
    "print(\"\\n\")\n",
    "\n",
    "##  Tree\n",
    "max_depth_range = range(1, 21) #Rango de calibracion \n",
    "accuracy_scores = []\n",
    "print(\"Estimando Modelo de Árbol\")\n",
    "# Loop para obtener el desempeño del modelo de acuerdo con la máxima profundidad\n",
    "for depth in max_depth_range:\n",
    "    clf = DecisionTreeClassifier(max_depth=depth, random_state=1)\n",
    "    accuracy_scores.append(cross_val_score(clf, X_train, y_train, cv=10, scoring=\"accuracy\").mean())\n",
    "print(\"Modelo estimado\")\n",
    "print(\"\")\n",
    "print(\"Calibracion del parametro max_depth para el modelo de Árbol\")\n",
    "# Gráfica max_depth versus RMSE (error del modelo)\n",
    "plt.plot(max_depth_range, accuracy_scores)\n",
    "plt.xlabel('max_depth')\n",
    "plt.ylabel('Accuracy')\n",
    "plt.show()\n",
    "# Mejor accuracy (desempeño del modelo) y su correspondiente max_depth\n",
    "print(\"La maxima profundidad del arbol que tiene el mayor Accuracy es: \" +  str(sorted(zip(accuracy_scores, max_depth_range))[::-1][0][1]))\n",
    "print(\"\")\n",
    "print(\"El Acurracy del árbol calibrado es \" +  str(sorted(zip(accuracy_scores, max_depth_range))[::-1][0][0]))\n",
    "print(\"\")\n",
    "#Predecir la variable y con el arbol de desicion calibrado\n",
    "y_predTree = DecisionTreeClassifier(max_depth= sorted(zip(accuracy_scores, max_depth_range))[::-1][0][1] , random_state=1).fit(X, y).predict(X_test)\n",
    "print(\"El F1-Score para el modelo de árbol es \"+ str(metrics.f1_score(y_predTree, y_test)))\n"
   ]
  },
  {
   "cell_type": "markdown",
   "metadata": {},
   "source": [
    "En el código anterior se estimaron 2 modelos de clasificación. En primer lugar, se realizó un modelo de regresión logística, posteriormente se estimó un modelo de árbol de decisión. \n",
    "\n",
    "Para el modelo de regresión logística tenemos que sus medidas de desempeño son: \n",
    "\n",
    "1. Acurracy: 0.616\n",
    "2. F1-Score: 0.602\n",
    "\n",
    "Por otro lado, para el modelo árbol de decisión **calibrado en una maxima profundidad de 2** tenemos que: \n",
    "\n",
    "1. Acurracy: 0.63\n",
    "2. F1-Score: 0.64\n",
    "\n",
    "\n",
    "Se puede concluir que para este caso particular el modelo de árbol de decisión tiene mejor desempeño predictivo que la regresión logística según las métricas Acurracy y  F1-Score."
   ]
  },
  {
   "cell_type": "markdown",
   "metadata": {},
   "source": [
    "### Punto 7 - Votación Mayoritaria\n",
    "En la celda 7 elabore un esamble con la metodología de **Votación mayoritaria** compuesto por 300 muestras bagged para cada uno de los siguientes escenarios:\n",
    "\n",
    "-100 árboles de decisión donde max_depth = None\\\n",
    "-100 árboles de decisión donde max_depth = 2\\\n",
    "-100 regresiones logísticas\n",
    "\n",
    "Evalúe los modelos utilizando las métricas de Accuracy y F1-Score."
   ]
  },
  {
   "cell_type": "code",
   "execution_count": 50,
   "metadata": {
    "scrolled": false
   },
   "outputs": [
    {
     "name": "stdout",
     "output_type": "stream",
     "text": [
      "Entrenamos modelo Tree Depth = None\n",
      "Modelo Entrenado\n",
      "\n",
      "El F1-Score y el Acurracy del modelo bagging de Árbol con MaxDepth = None son respectivamente\n",
      "0.6697798532354903 0.67\n",
      "\n",
      "\n",
      "Entrenamos modelo Tree Depth = 2\n",
      "Modelo Entrenado\n",
      "\n",
      "El F1-Score y el Acurracy del modelo bagging de Árbol con MaxDepth = 2 son respectivamente\n",
      "0.6490514905149052 0.6546666666666666\n",
      "\n",
      "\n",
      "Entrenamos modelo Reg Logística\n",
      "Modelo Entrenado\n",
      "\n",
      "El F1-Score y el Acurracy del modelo Reg Logística son respectivamente\n",
      "0.6149659863945578 0.6226666666666667\n"
     ]
    }
   ],
   "source": [
    "# Celda 7\n",
    "from sklearn.ensemble import BaggingClassifier\n",
    "\n",
    "# Uso de BaggingRegressor de la libreria (sklearn) para estimar los diferentes modelos. \n",
    "\n",
    "bagg100TreeDepthNone = BaggingClassifier(base_estimator = DecisionTreeClassifier(max_depth=None), n_estimators = 100, \n",
    "                          bootstrap=True, oob_score=True , max_samples = 300, random_state=1,n_jobs=-1)\n",
    "\n",
    "\n",
    "bagg100TreeDepth2 = BaggingClassifier(DecisionTreeClassifier(max_depth=2), n_estimators = 100, \n",
    "                          bootstrap=True, oob_score=True , max_samples = 300, random_state=1,n_jobs=-1)\n",
    "\n",
    "\n",
    "bagg100RegLog = BaggingClassifier(LogisticRegression(random_state=1,max_iter=1000), n_estimators = 100, \n",
    "                          bootstrap=True, oob_score=True , max_samples = 300, random_state=1,n_jobs=-1)\n",
    "\n",
    "\n",
    "\n",
    "# Entrenemiento de los modelos con set de entrenamiento y predicción en el set de test\n",
    "\n",
    "print(\"Entrenamos modelo Tree Depth = None\")\n",
    "bagg100TreeDepthNone.fit(X_train, y_train)\n",
    "y_predbagg100TreeDepthNone = bagg100TreeDepthNone.predict(X_test)\n",
    "print('Modelo Entrenado')\n",
    "print(\"\")\n",
    "print('El F1-Score y el Acurracy del modelo bagging de Árbol con MaxDepth = None son respectivamente')\n",
    "print(metrics.f1_score(y_predbagg100TreeDepthNone, y_test), metrics.accuracy_score(y_predbagg100TreeDepthNone, y_test))\n",
    "\n",
    "print('\\n')\n",
    "print(\"Entrenamos modelo Tree Depth = 2\")\n",
    "bagg100TreeDepth2.fit(X_train, y_train)\n",
    "y_predbagg100TreeDepth2 = bagg100TreeDepth2.predict(X_test)\n",
    "print('Modelo Entrenado')\n",
    "print(\"\")\n",
    "print('El F1-Score y el Acurracy del modelo bagging de Árbol con MaxDepth = 2 son respectivamente')\n",
    "print(metrics.f1_score(y_predbagg100TreeDepth2, y_test), metrics.accuracy_score(y_predbagg100TreeDepth2, y_test))\n",
    "\n",
    "print('\\n')\n",
    "print(\"Entrenamos modelo Reg Logística\")\n",
    "bagg100RegLog.fit(X_train, y_train)\n",
    "y_predbagg100RegLog = bagg100RegLog.predict(X_test)\n",
    "print('Modelo Entrenado')\n",
    "print(\"\")\n",
    "print('El F1-Score y el Acurracy del modelo Reg Logística son respectivamente')\n",
    "print(metrics.f1_score(y_predbagg100RegLog, y_test), metrics.accuracy_score(y_predbagg100RegLog, y_test))\n"
   ]
  },
  {
   "cell_type": "markdown",
   "metadata": {},
   "source": [
    "Podemos concluir que, según las métricas F1_Score y Acurracy, el mejor modelo de los 3 ensamblajes presentados es el modelo **Bagging Árbol de decisión SIN profundidad máxima con votación mayoritaria**  "
   ]
  },
  {
   "cell_type": "markdown",
   "metadata": {},
   "source": [
    "### Punto 8 - Votación Ponderada\n",
    "En la celda 8 elabore un ensamble con la metodología de **Votación ponderada** compuesto por 300 muestras bagged para los mismos tres escenarios del punto 7. Evalúe los modelos utilizando las métricas de Accuracy y F1-Score"
   ]
  },
  {
   "cell_type": "code",
   "execution_count": 51,
   "metadata": {
    "scrolled": true
   },
   "outputs": [
    {
     "name": "stdout",
     "output_type": "stream",
     "text": [
      "El F1-Score y el Acurracy del modelo bagging de Árbol con MaxDepth = None y votación ponderada son respectivamente\n",
      "0.6724023825281271 0.67\n",
      "\n",
      "\n",
      "El F1-Score y el Acurracy del modelo bagging de Árbol con MaxDepth = 2 y votación ponderada son respectivamente\n",
      "0.6445047489823609 0.6506666666666666\n",
      "\n",
      "\n",
      "El F1-Score y el Acurracy del modelo regresión logística con votación ponderada son respectivamente\n",
      "0.6142270861833106 0.624\n"
     ]
    }
   ],
   "source": [
    "# Celda 8\n",
    "\n",
    "# Votación ponderada para el modelo bagging de Árbol con MaxDepth = None\n",
    "errors = np.zeros(bagg100TreeDepthNone.n_estimators)\n",
    "y_pred_all_ = np.zeros( (X_test.shape[0], bagg100TreeDepthNone.n_estimators) )\n",
    "for i in range(bagg100TreeDepthNone.n_estimators):\n",
    "    oob_sample = ~bagg100TreeDepthNone.estimators_samples_[i]\n",
    "    y_pred_ = bagg100TreeDepthNone.estimators_[i].predict(X_train.values[oob_sample])\n",
    "    errors[i] = metrics.accuracy_score(y_pred_, y_train.values[oob_sample])\n",
    "    y_pred_all_[:, i] = bagg100TreeDepthNone.estimators_[i].predict(X_test)\n",
    "    \n",
    "alpha = (1 - errors) / (1 - errors).sum()\n",
    "y_pred = (np.sum(y_pred_all_ * alpha, axis=1) >= 0.5).astype(np.int)\n",
    "# Metricas con votación ponderada\n",
    "print('El F1-Score y el Acurracy del modelo bagging de Árbol con MaxDepth = None y votación ponderada son respectivamente')\n",
    "print(metrics.f1_score(y_pred, y_test), metrics.accuracy_score(y_pred, y_test))\n",
    "\n",
    "\n",
    "\n",
    "print('\\n')\n",
    "#Votación ponderada para el modelo bagging de Árbol con MaxDepth = 2\n",
    "errors = np.zeros(bagg100TreeDepth2.n_estimators)\n",
    "y_pred_all_ = np.zeros( (X_test.shape[0], bagg100TreeDepth2.n_estimators) )\n",
    "for i in range(bagg100TreeDepth2.n_estimators):\n",
    "    oob_sample = ~bagg100TreeDepth2.estimators_samples_[i]\n",
    "    y_pred_ = bagg100TreeDepth2.estimators_[i].predict(X_train.values[oob_sample])\n",
    "    errors[i] = metrics.accuracy_score(y_pred_, y_train.values[oob_sample])\n",
    "    y_pred_all_[:, i] = bagg100TreeDepth2.estimators_[i].predict(X_test)\n",
    "alpha = (1 - errors) / (1 - errors).sum()\n",
    "y_pred = (np.sum(y_pred_all_ * alpha, axis=1) >= 0.5).astype(np.int)\n",
    "# Metricas con votación ponderada\n",
    "print('El F1-Score y el Acurracy del modelo bagging de Árbol con MaxDepth = 2 y votación ponderada son respectivamente')\n",
    "print(metrics.f1_score(y_pred, y_test), metrics.accuracy_score(y_pred, y_test))\n",
    "\n",
    "\n",
    "\n",
    "print('\\n')\n",
    "#Votación ponderada para el modelo Reg Logística\n",
    "errors = np.zeros(bagg100RegLog.n_estimators)\n",
    "y_pred_all_ = np.zeros( (X_test.shape[0], bagg100RegLog.n_estimators) )\n",
    "\n",
    "for i in range(bagg100RegLog.n_estimators):\n",
    "    oob_sample = ~bagg100RegLog.estimators_samples_[i]\n",
    "    y_pred_ = bagg100RegLog.estimators_[i].predict(X_train.values[oob_sample])\n",
    "    errors[i] = metrics.accuracy_score(y_pred_, y_train.values[oob_sample])\n",
    "    y_pred_all_[:, i] = bagg100RegLog.estimators_[i].predict(X_test)  \n",
    "alpha = (1 - errors) / (1 - errors).sum()\n",
    "y_pred = (np.sum(y_pred_all_ * alpha, axis=1) >= 0.5).astype(np.int)\n",
    "# Metricas con votación ponderada\n",
    "print('El F1-Score y el Acurracy del modelo regresión logística con votación ponderada son respectivamente')\n",
    "print(metrics.f1_score(y_pred, y_test), metrics.accuracy_score(y_pred, y_test))\n",
    "\n"
   ]
  },
  {
   "cell_type": "markdown",
   "metadata": {},
   "source": [
    "### Punto 9 - Comparación y análisis de resultados\n",
    "En la celda 9 comente sobre los resultados obtenidos con las metodologías usadas en los puntos 7 y 8, compare los resultados y enuncie posibles ventajas o desventajas de cada una de ellas."
   ]
  },
  {
   "cell_type": "markdown",
   "metadata": {},
   "source": [
    "\n",
    "En los puntos 7 y 8 se generaron ensamblajes con distintos tipos de clasificadores. Se utilizaron los siguientes modelos\n",
    "\n",
    "1. Árbol de decisión con profundidad indefinida\n",
    "2. Árbol de decisión con profundidad de 2. \n",
    "3. Regresión logística \n",
    "\n",
    "Para cada clasificador se generaron 300 muestras a partir de bootstrap. Finalmente, pare realizar la predicción de cada ensamblaje se propuso: \n",
    " \n",
    " **En el punto 7:** Las predicciones se realizaron por el método de **votación mayoritaria**, es decir, se escoge como predicción final aquella clase que tenga la mayoría de las predicciones a su favor. Esto quiere decir que se le da el mismo \"peso\" a todas las predicciones sin importar el error de cada modelo. \n",
    " \n",
    " **En el punto 8:** Las predicciones se hicieron por el método de **votación ponderada**, esto significa que la predicción final depende de una ponderación porcentual de todas las predicciones. Aquellas predicciones que aportan *más* a la predicción final son las que vienen de un modelo con error OOB bajo. De igual manera, las predicciones que *menos* aportan a la predicción final son aquellas que tiene un error OOB mayor.\n",
    " \n",
    "Podemos ver que todas las métricas para cada uno de los 3 ensamblajes están mejorando. Es decir, **la votación ponderada es un mejor método que la votación mayoritaria**. Sin embargo, la mejora en las métricas es pequeña."
   ]
  }
 ],
 "metadata": {
  "kernelspec": {
   "display_name": "Python 3",
   "language": "python",
   "name": "python3"
  },
  "language_info": {
   "codemirror_mode": {
    "name": "ipython",
    "version": 3
   },
   "file_extension": ".py",
   "mimetype": "text/x-python",
   "name": "python",
   "nbconvert_exporter": "python",
   "pygments_lexer": "ipython3",
   "version": "3.7.6"
  }
 },
 "nbformat": 4,
 "nbformat_minor": 4
}
